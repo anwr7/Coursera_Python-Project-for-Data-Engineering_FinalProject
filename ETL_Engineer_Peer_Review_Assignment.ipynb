{
 "cells": [
  {
   "cell_type": "markdown",
   "metadata": {},
   "source": [
    "<p style=\"text-align:center\">\n",
    "    <a href=\"https://skills.network/?utm_medium=Exinfluencer&utm_source=Exinfluencer&utm_content=000026UJ&utm_term=10006555&utm_id=NA-SkillsNetwork-Channel-SkillsNetworkCoursesIBMDeveloperSkillsNetworkPY0221ENSkillsNetwork23455645-2022-01-01\" target=\"_blank\">\n",
    "    <img src=\"https://cf-courses-data.s3.us.cloud-object-storage.appdomain.cloud/assets/logos/SN_web_lightmode.png\" width=\"200\" alt=\"Skills Network Logo\"  />\n",
    "    </a>\n",
    "</p>\n"
   ]
  },
  {
   "cell_type": "markdown",
   "metadata": {
    "tags": []
   },
   "source": [
    "# Peer Review Assignment - Data Engineer - ETL\n"
   ]
  },
  {
   "cell_type": "markdown",
   "metadata": {},
   "source": [
    "Estimated time needed: **20** minutes\n"
   ]
  },
  {
   "cell_type": "markdown",
   "metadata": {},
   "source": [
    "## Objectives\n",
    "\n",
    "In this final part you will:\n",
    "\n",
    "*   Run the ETL process\n",
    "*   Extract bank and market cap data from the JSON file `bank_market_cap.json`\n",
    "*   Transform the market cap currency using the exchange rate data\n",
    "*   Load the transformed data into a seperate CSV\n"
   ]
  },
  {
   "cell_type": "markdown",
   "metadata": {},
   "source": [
    "For this lab, we are going to be using Python and several Python libraries. Some of these libraries might be installed in your lab environment or in SN Labs. Others may need to be installed by you. The cells below will install these libraries when executed.\n"
   ]
  },
  {
   "cell_type": "code",
   "execution_count": 15,
   "metadata": {},
   "outputs": [
    {
     "name": "stdout",
     "output_type": "stream",
     "text": [
      "\n",
      "                  __    __    __    __\n",
      "                 /  \\  /  \\  /  \\  /  \\\n",
      "                /    \\/    \\/    \\/    \\\n",
      "███████████████/  /██/  /██/  /██/  /████████████████████████\n",
      "              /  / \\   / \\   / \\   / \\  \\____\n",
      "             /  /   \\_/   \\_/   \\_/   \\    o \\__,\n",
      "            / _/                       \\_____/  `\n",
      "            |/\n",
      "        ███╗   ███╗ █████╗ ███╗   ███╗██████╗  █████╗\n",
      "        ████╗ ████║██╔══██╗████╗ ████║██╔══██╗██╔══██╗\n",
      "        ██╔████╔██║███████║██╔████╔██║██████╔╝███████║\n",
      "        ██║╚██╔╝██║██╔══██║██║╚██╔╝██║██╔══██╗██╔══██║\n",
      "        ██║ ╚═╝ ██║██║  ██║██║ ╚═╝ ██║██████╔╝██║  ██║\n",
      "        ╚═╝     ╚═╝╚═╝  ╚═╝╚═╝     ╚═╝╚═════╝ ╚═╝  ╚═╝\n",
      "\n",
      "        mamba (0.15.3) supported by @QuantStack\n",
      "\n",
      "        GitHub:  https://github.com/mamba-org/mamba\n",
      "        Twitter: https://twitter.com/QuantStack\n",
      "\n",
      "█████████████████████████████████████████████████████████████\n",
      "\n",
      "\n",
      "Looking for: ['pandas==1.3.3']\n",
      "\n",
      "pkgs/main/linux-64       [<=>                 ] (00m:00s) \n",
      "pkgs/main/linux-64       [=>               ] (00m:00s) 88 KB / ?? (291.29 KB/s)\n",
      "pkgs/main/linux-64       [=>               ] (00m:00s) 88 KB / ?? (291.29 KB/s)\n",
      "pkgs/main/noarch         [<=>                 ] (00m:00s) \n",
      "pkgs/main/linux-64       [=>               ] (00m:00s) 88 KB / ?? (291.29 KB/s)\n",
      "pkgs/main/noarch         [=>                ] (00m:00s) 688 KB / ?? (2.22 MB/s)\n",
      "pkgs/main/linux-64       [=>               ] (00m:00s) 88 KB / ?? (291.29 KB/s)\n",
      "pkgs/main/noarch         [=>                ] (00m:00s) 688 KB / ?? (2.22 MB/s)\n",
      "pkgs/r/linux-64          [<=>                 ] (00m:00s) \n",
      "pkgs/main/linux-64       [=>               ] (00m:00s) 88 KB / ?? (291.29 KB/s)\n",
      "pkgs/main/noarch         [=>                ] (00m:00s) 688 KB / ?? (2.22 MB/s)\n",
      "pkgs/r/linux-64          [=>                ] (00m:00s) 552 KB / ?? (1.78 MB/s)\n",
      "pkgs/main/linux-64       [=>               ] (00m:00s) 88 KB / ?? (291.29 KB/s)\n",
      "pkgs/main/noarch         [=>                ] (00m:00s) 688 KB / ?? (2.22 MB/s)\n",
      "pkgs/r/linux-64          [=>                ] (00m:00s) 552 KB / ?? (1.78 MB/s)\n",
      "pkgs/r/noarch            [<=>                 ] (00m:00s) \n",
      "pkgs/main/linux-64       [=>               ] (00m:00s) 88 KB / ?? (291.29 KB/s)\n",
      "pkgs/main/noarch         [=>                ] (00m:00s) 688 KB / ?? (2.22 MB/s)\n",
      "pkgs/r/linux-64          [=>                ] (00m:00s) 552 KB / ?? (1.78 MB/s)\n",
      "pkgs/r/noarch            [=>                ] (00m:00s) 348 KB / ?? (1.12 MB/s)\n",
      "pkgs/main/linux-64       [=>               ] (00m:00s) 88 KB / ?? (291.29 KB/s)\n",
      "pkgs/main/noarch         [<=>                 ] (00m:00s) Finalizing...\n",
      "pkgs/r/linux-64          [=>                ] (00m:00s) 552 KB / ?? (1.78 MB/s)\n",
      "pkgs/r/noarch            [=>                ] (00m:00s) 348 KB / ?? (1.12 MB/s)\n",
      "pkgs/main/linux-64       [=>               ] (00m:00s) 88 KB / ?? (291.29 KB/s)\n",
      "pkgs/main/noarch         [<=>                 ] (00m:00s) Done\n",
      "pkgs/r/linux-64          [=>                ] (00m:00s) 552 KB / ?? (1.78 MB/s)\n",
      "pkgs/r/noarch            [=>                ] (00m:00s) 348 KB / ?? (1.12 MB/s)\n",
      "pkgs/main/noarch         [====================] (00m:00s) Done\n",
      "pkgs/main/linux-64       [=>               ] (00m:00s) 88 KB / ?? (291.29 KB/s)\n",
      "pkgs/r/linux-64          [=>                ] (00m:00s) 552 KB / ?? (1.78 MB/s)\n",
      "pkgs/r/noarch            [=>                ] (00m:00s) 348 KB / ?? (1.12 MB/s)\n",
      "pkgs/main/linux-64       [<=>              ] (00m:00s) 88 KB / ?? (291.29 KB/s)\n",
      "pkgs/r/linux-64          [=>                ] (00m:00s) 552 KB / ?? (1.78 MB/s)\n",
      "pkgs/r/noarch            [=>                ] (00m:00s) 348 KB / ?? (1.12 MB/s)\n",
      "pkgs/main/linux-64       [<=>               ] (00m:00s) 820 KB / ?? (1.77 MB/s)\n",
      "pkgs/r/linux-64          [=>                ] (00m:00s) 552 KB / ?? (1.78 MB/s)\n",
      "pkgs/r/noarch            [=>                ] (00m:00s) 348 KB / ?? (1.12 MB/s)\n",
      "pkgs/main/linux-64       [<=>               ] (00m:00s) 820 KB / ?? (1.77 MB/s)\n",
      "pkgs/r/linux-64          [<=>               ] (00m:00s) 552 KB / ?? (1.78 MB/s)\n",
      "pkgs/r/noarch            [=>                ] (00m:00s) 348 KB / ?? (1.12 MB/s)\n",
      "pkgs/main/linux-64       [<=>               ] (00m:00s) 820 KB / ?? (1.77 MB/s)\n",
      "pkgs/r/linux-64          [ <=>                ] (00m:00s) 1 MB / ?? (2.73 MB/s)\n",
      "pkgs/r/noarch            [=>                ] (00m:00s) 348 KB / ?? (1.12 MB/s)\n",
      "pkgs/main/linux-64       [<=>               ] (00m:00s) 820 KB / ?? (1.77 MB/s)\n",
      "pkgs/r/linux-64          [ <=>                ] (00m:00s) 1 MB / ?? (2.73 MB/s)\n",
      "pkgs/r/noarch            [<=>               ] (00m:00s) 348 KB / ?? (1.12 MB/s)\n",
      "pkgs/main/linux-64       [<=>               ] (00m:00s) 820 KB / ?? (1.77 MB/s)\n",
      "pkgs/r/linux-64          [ <=>                ] (00m:00s) 1 MB / ?? (2.73 MB/s)\n",
      "pkgs/r/noarch            [<=>               ] (00m:00s) 768 KB / ?? (1.65 MB/s)\n",
      "pkgs/main/linux-64       [<=>               ] (00m:00s) 820 KB / ?? (1.77 MB/s)\n",
      "pkgs/r/linux-64          [ <=>                ] (00m:00s) Finalizing...\n",
      "pkgs/r/noarch            [<=>               ] (00m:00s) 768 KB / ?? (1.65 MB/s)\n",
      "pkgs/main/linux-64       [<=>               ] (00m:00s) 820 KB / ?? (1.77 MB/s)\n",
      "pkgs/r/linux-64          [ <=>                ] (00m:00s) Done\n",
      "pkgs/r/noarch            [<=>               ] (00m:00s) 768 KB / ?? (1.65 MB/s)\n",
      "pkgs/r/linux-64          [====================] (00m:00s) Done\n",
      "pkgs/main/linux-64       [<=>               ] (00m:00s) 820 KB / ?? (1.77 MB/s)\n",
      "pkgs/r/noarch            [<=>               ] (00m:00s) 768 KB / ?? (1.65 MB/s)\n",
      "pkgs/main/linux-64       [ <=>              ] (00m:00s) 820 KB / ?? (1.77 MB/s)\n",
      "pkgs/r/noarch            [<=>               ] (00m:00s) 768 KB / ?? (1.65 MB/s)\n",
      "pkgs/main/linux-64       [  <=>               ] (00m:00s) 2 MB / ?? (2.54 MB/s)\n",
      "pkgs/r/noarch            [<=>               ] (00m:00s) 768 KB / ?? (1.65 MB/s)\n",
      "pkgs/main/linux-64       [  <=>               ] (00m:00s) 2 MB / ?? (2.54 MB/s)\n",
      "pkgs/r/noarch            [ <=>              ] (00m:00s) 768 KB / ?? (1.65 MB/s)\n",
      "pkgs/main/linux-64       [  <=>               ] (00m:00s) 2 MB / ?? (2.54 MB/s)\n",
      "pkgs/r/noarch            [  <=>               ] (00m:00s) 1 MB / ?? (1.89 MB/s)\n",
      "pkgs/main/linux-64       [  <=>               ] (00m:00s) 2 MB / ?? (2.54 MB/s)\n",
      "pkgs/r/noarch            [  <=>               ] (00m:00s) Finalizing...\n",
      "pkgs/main/linux-64       [  <=>               ] (00m:00s) 2 MB / ?? (2.54 MB/s)\n",
      "pkgs/r/noarch            [  <=>               ] (00m:00s) Done\n",
      "pkgs/r/noarch            [====================] (00m:00s) Done\n",
      "pkgs/main/linux-64       [  <=>               ] (00m:00s) 2 MB / ?? (2.54 MB/s)\n",
      "pkgs/main/linux-64       [   <=>              ] (00m:00s) 2 MB / ?? (2.54 MB/s)\n",
      "pkgs/main/linux-64       [   <=>              ] (00m:00s) 2 MB / ?? (2.96 MB/s)\n",
      "pkgs/main/linux-64       [    <=>             ] (00m:00s) 2 MB / ?? (2.96 MB/s)\n",
      "pkgs/main/linux-64       [    <=>             ] (00m:00s) 3 MB / ?? (3.19 MB/s)\n",
      "pkgs/main/linux-64       [     <=>            ] (00m:00s) 3 MB / ?? (3.19 MB/s)\n",
      "pkgs/main/linux-64       [     <=>            ] (00m:00s) 4 MB / ?? (3.42 MB/s)\n",
      "pkgs/main/linux-64       [      <=>           ] (00m:00s) 4 MB / ?? (3.42 MB/s)\n",
      "pkgs/main/linux-64       [      <=>           ] (00m:00s) 4 MB / ?? (3.58 MB/s)\n",
      "pkgs/main/linux-64       [      <=>           ] (00m:00s) Finalizing...\n",
      "pkgs/main/linux-64       [      <=>           ] (00m:01s) Done\n",
      "pkgs/main/linux-64       [====================] (00m:01s) Done\n",
      "\n",
      "Pinned packages:\n",
      "  - python 3.7.*\n",
      "\n",
      "\n",
      "Transaction\n",
      "\n",
      "  Prefix: /home/jupyterlab/conda/envs/python\n",
      "\n",
      "  Updating specs:\n",
      "\n",
      "   - pandas==1.3.3\n",
      "   - ca-certificates\n",
      "   - certifi\n",
      "   - openssl\n",
      "\n",
      "\n",
      "  Package      Version  Build           Channel                  Size\n",
      "───────────────────────────────────────────────────────────────────────\n",
      "  Change:\n",
      "───────────────────────────────────────────────────────────────────────\n",
      "\n",
      "\u001b[31m  - certifi\u001b[00m  2022.9.14  pyhd8ed1ab_0    installed                    \n",
      "\u001b[32m  + certifi\u001b[00m  2022.9.14  py37h06a4308_0  pkgs/main/linux-64     155 KB\n",
      "\u001b[31m  - openssl\u001b[00m     1.1.1q  h166bdaf_0      installed                    \n",
      "\u001b[32m  + openssl\u001b[00m     1.1.1q  h7f8727e_0      pkgs/main/linux-64       3 MB\n",
      "\n",
      "  Downgrade:\n",
      "───────────────────────────────────────────────────────────────────────\n",
      "\n",
      "\u001b[31m  - pandas \u001b[00m      1.3.5  py37h8c16a72_0  installed                    \n",
      "\u001b[32m  + pandas \u001b[00m      1.3.3  py37h8c16a72_0  pkgs/main/linux-64       9 MB\n",
      "\n",
      "  Summary:\n",
      "\n",
      "  Change: 2 packages\n",
      "  Downgrade: 1 packages\n",
      "\n",
      "  Total download: 12 MB\n",
      "\n",
      "───────────────────────────────────────────────────────────────────────\n",
      "\n",
      "Downloading  [>                                        ] (00m:00s)    1.01 MB/s\n",
      "Extracting   [>                                                      ] (--:--) \n",
      "\u001b[2A\u001b[0KFinished certifi                              (00m:00s)             155 KB      1 MB/s\n",
      "Downloading  [>                                        ] (00m:00s)    1.01 MB/s\n",
      "Extracting   [>                                                      ] (--:--) \n",
      "Downloading  [>                                        ] (00m:00s)    1.01 MB/s\n",
      "Extracting   [>                                                      ] (--:--) \n",
      "Downloading  [>                                        ] (00m:00s)    1.01 MB/s\n",
      "Extracting   [>                                                      ] (--:--) \n",
      "Downloading  [=>                                       ] (00m:00s)    3.60 MB/s\n",
      "Extracting   [>                                                      ] (--:--) \n",
      "Downloading  [=>                                       ] (00m:00s)    3.60 MB/s\n",
      "Extracting   [>                                                      ] (--:--) \n",
      "Downloading  [======>                                  ] (00m:00s)   13.50 MB/s\n",
      "Extracting   [>                                                      ] (--:--) \n",
      "Downloading  [======>                                  ] (00m:00s)   13.50 MB/s\n",
      "Extracting   [>                                                      ] (--:--) \n",
      "Downloading  [==========>                              ] (00m:00s)   19.66 MB/s\n",
      "Extracting   [>                                                      ] (--:--) \n",
      "Downloading  [==========>                              ] (00m:00s)   19.66 MB/s\n",
      "Extracting   [=============>                           ] (00m:00s)        1 / 3\n",
      "\u001b[2A\u001b[0KFinished openssl                              (00m:00s)               3 MB     16 MB/s\n",
      "Downloading  [==========>                              ] (00m:00s)   19.66 MB/s\n",
      "Extracting   [=============>                           ] (00m:00s)        1 / 3\n",
      "Downloading  [==========>                              ] (00m:00s)   19.66 MB/s\n",
      "Extracting   [=============>                           ] (00m:00s)        1 / 3\n",
      "Downloading  [==========>                              ] (00m:00s)   19.66 MB/s\n",
      "Extracting   [=============>                           ] (00m:00s)        1 / 3\n",
      "Downloading  [=========================================] (00m:00s)   51.53 MB/s\n",
      "Extracting   [=============>                           ] (00m:00s)        1 / 3\n",
      "\u001b[2A\u001b[0KFinished pandas                               (00m:00s)               9 MB     40 MB/s\n",
      "Downloading  [=========================================] (00m:00s)   51.53 MB/s\n",
      "Extracting   [=============>                           ] (00m:00s)        1 / 3\n",
      "Downloading  [=========================================] (00m:00s)   51.53 MB/s\n",
      "Extracting   [=============>                           ] (00m:00s)        1 / 3\n",
      "Downloading  [=========================================] (00m:00s)   51.53 MB/s\n",
      "Extracting   [===========================>             ] (00m:00s)        2 / 3\n",
      "Downloading  [=========================================] (00m:00s)   51.53 MB/s\n",
      "Extracting   [===========================>             ] (00m:00s)        2 / 3\n",
      "Downloading  [=========================================] (00m:00s)   51.53 MB/s\n",
      "Extracting   [=========================================] (00m:00s)        3 / 3\n",
      "Preparing transaction: done\n",
      "Verifying transaction: done\n",
      "Executing transaction: done\n",
      "\n",
      "                  __    __    __    __\n",
      "                 /  \\  /  \\  /  \\  /  \\\n",
      "                /    \\/    \\/    \\/    \\\n",
      "███████████████/  /██/  /██/  /██/  /████████████████████████\n",
      "              /  / \\   / \\   / \\   / \\  \\____\n",
      "             /  /   \\_/   \\_/   \\_/   \\    o \\__,\n",
      "            / _/                       \\_____/  `\n",
      "            |/\n",
      "        ███╗   ███╗ █████╗ ███╗   ███╗██████╗  █████╗\n",
      "        ████╗ ████║██╔══██╗████╗ ████║██╔══██╗██╔══██╗\n",
      "        ██╔████╔██║███████║██╔████╔██║██████╔╝███████║\n",
      "        ██║╚██╔╝██║██╔══██║██║╚██╔╝██║██╔══██╗██╔══██║\n",
      "        ██║ ╚═╝ ██║██║  ██║██║ ╚═╝ ██║██████╔╝██║  ██║\n",
      "        ╚═╝     ╚═╝╚═╝  ╚═╝╚═╝     ╚═╝╚═════╝ ╚═╝  ╚═╝\n",
      "\n",
      "        mamba (0.15.3) supported by @QuantStack\n",
      "\n",
      "        GitHub:  https://github.com/mamba-org/mamba\n",
      "        Twitter: https://twitter.com/QuantStack\n",
      "\n",
      "█████████████████████████████████████████████████████████████\n",
      "\n",
      "\n",
      "Looking for: ['requests==2.26.0']\n",
      "\n",
      "pkgs/main/linux-64       Using cache\n",
      "pkgs/main/noarch         Using cache\n",
      "pkgs/r/linux-64          Using cache\n",
      "pkgs/r/noarch            Using cache\n",
      "\n",
      "Pinned packages:\n",
      "  - python 3.7.*\n",
      "\n",
      "\n",
      "Transaction\n",
      "\n",
      "  Prefix: /home/jupyterlab/conda/envs/python\n",
      "\n",
      "  Updating specs:\n",
      "\n",
      "   - requests==2.26.0\n",
      "   - ca-certificates\n",
      "   - certifi\n",
      "   - openssl\n",
      "\n",
      "\n",
      "  Package               Version  Build         Channel               Size\n",
      "───────────────────────────────────────────────────────────────────────────\n",
      "  Downgrade:\n",
      "───────────────────────────────────────────────────────────────────────────\n",
      "\n",
      "\u001b[31m  - charset-normalizer\u001b[00m    2.1.1  pyhd8ed1ab_0  installed                 \n",
      "\u001b[32m  + charset-normalizer\u001b[00m    2.0.4  pyhd3eb1b0_0  pkgs/main/noarch     35 KB\n",
      "\u001b[31m  - requests          \u001b[00m   2.28.1  pyhd8ed1ab_1  installed                 \n",
      "\u001b[32m  + requests          \u001b[00m   2.26.0  pyhd3eb1b0_0  pkgs/main/noarch     59 KB\n",
      "\n",
      "  Summary:\n",
      "\n",
      "  Downgrade: 2 packages\n",
      "\n",
      "  Total download: 94 KB\n",
      "\n",
      "───────────────────────────────────────────────────────────────────────────\n",
      "\n",
      "Downloading  [==============>                          ] (00m:00s)  259.72 KB/s\n",
      "Extracting   [>                                                      ] (--:--) \n",
      "\u001b[2A\u001b[0KFinished charset-normalizer                   (00m:00s)              35 KB    259 KB/s\n",
      "Downloading  [==============>                          ] (00m:00s)  259.72 KB/s\n",
      "Extracting   [>                                                      ] (--:--) \n",
      "Downloading  [==============>                          ] (00m:00s)  259.72 KB/s\n",
      "Extracting   [>                                                      ] (--:--) \n",
      "Downloading  [==============>                          ] (00m:00s)  259.72 KB/s\n",
      "Extracting   [>                                                      ] (--:--) \n",
      "Downloading  [==============>                          ] (00m:00s)  259.72 KB/s\n",
      "Extracting   [====================>                    ] (00m:00s)        1 / 2\n",
      "Downloading  [=========================================] (00m:00s)  674.83 KB/s\n",
      "Extracting   [====================>                    ] (00m:00s)        1 / 2\n",
      "\u001b[2A\u001b[0KFinished requests                             (00m:00s)              59 KB    425 KB/s\n",
      "Downloading  [=========================================] (00m:00s)  674.83 KB/s\n",
      "Extracting   [====================>                    ] (00m:00s)        1 / 2\n",
      "Downloading  [=========================================] (00m:00s)  674.83 KB/s\n",
      "Extracting   [====================>                    ] (00m:00s)        1 / 2\n",
      "Downloading  [=========================================] (00m:00s)  674.83 KB/s\n",
      "Extracting   [====================>                    ] (00m:00s)        1 / 2\n",
      "Downloading  [=========================================] (00m:00s)  674.83 KB/s\n",
      "Extracting   [=========================================] (00m:00s)        2 / 2\n",
      "Preparing transaction: done\n",
      "Verifying transaction: done\n",
      "Executing transaction: done\n"
     ]
    }
   ],
   "source": [
    "!mamba install pandas==1.3.3 -y\n",
    "!mamba install requests==2.26.0 -y"
   ]
  },
  {
   "cell_type": "markdown",
   "metadata": {},
   "source": [
    "## Imports\n",
    "\n",
    "Import any additional libraries you may need here.\n"
   ]
  },
  {
   "cell_type": "code",
   "execution_count": 16,
   "metadata": {},
   "outputs": [],
   "source": [
    "import glob\n",
    "import pandas as pd\n",
    "from datetime import datetime"
   ]
  },
  {
   "cell_type": "markdown",
   "metadata": {},
   "source": [
    "As the exchange rate fluctuates, we will download the same dataset to make marking simpler. This will be in the same format as the dataset you used in the last section\n"
   ]
  },
  {
   "cell_type": "code",
   "execution_count": 17,
   "metadata": {},
   "outputs": [
    {
     "name": "stdout",
     "output_type": "stream",
     "text": [
      "--2022-10-01 12:26:16--  https://cf-courses-data.s3.us.cloud-object-storage.appdomain.cloud/IBMDeveloperSkillsNetwork-PY0221EN-SkillsNetwork/labs/module%206/Lab%20-%20Extract%20Transform%20Load/data/bank_market_cap_1.json\n",
      "Resolving cf-courses-data.s3.us.cloud-object-storage.appdomain.cloud (cf-courses-data.s3.us.cloud-object-storage.appdomain.cloud)... 169.63.118.104\n",
      "Connecting to cf-courses-data.s3.us.cloud-object-storage.appdomain.cloud (cf-courses-data.s3.us.cloud-object-storage.appdomain.cloud)|169.63.118.104|:443... connected.\n",
      "HTTP request sent, awaiting response... 200 OK\n",
      "Length: 2815 (2.7K) [application/json]\n",
      "Saving to: ‘bank_market_cap_1.json.1’\n",
      "\n",
      "bank_market_cap_1.j 100%[===================>]   2.75K  --.-KB/s    in 0s      \n",
      "\n",
      "2022-10-01 12:26:16 (21.7 MB/s) - ‘bank_market_cap_1.json.1’ saved [2815/2815]\n",
      "\n",
      "--2022-10-01 12:26:17--  https://cf-courses-data.s3.us.cloud-object-storage.appdomain.cloud/IBMDeveloperSkillsNetwork-PY0221EN-SkillsNetwork/labs/module%206/Lab%20-%20Extract%20Transform%20Load/data/bank_market_cap_2.json\n",
      "Resolving cf-courses-data.s3.us.cloud-object-storage.appdomain.cloud (cf-courses-data.s3.us.cloud-object-storage.appdomain.cloud)... 169.63.118.104\n",
      "Connecting to cf-courses-data.s3.us.cloud-object-storage.appdomain.cloud (cf-courses-data.s3.us.cloud-object-storage.appdomain.cloud)|169.63.118.104|:443... connected.\n",
      "HTTP request sent, awaiting response... 200 OK\n",
      "Length: 1429 (1.4K) [application/json]\n",
      "Saving to: ‘bank_market_cap_2.json.1’\n",
      "\n",
      "bank_market_cap_2.j 100%[===================>]   1.40K  --.-KB/s    in 0s      \n",
      "\n",
      "2022-10-01 12:26:17 (11.3 MB/s) - ‘bank_market_cap_2.json.1’ saved [1429/1429]\n",
      "\n",
      "--2022-10-01 12:26:18--  https://cf-courses-data.s3.us.cloud-object-storage.appdomain.cloud/IBMDeveloperSkillsNetwork-PY0221EN-SkillsNetwork/labs/module%206/Final%20Assignment/exchange_rates.csv\n",
      "Resolving cf-courses-data.s3.us.cloud-object-storage.appdomain.cloud (cf-courses-data.s3.us.cloud-object-storage.appdomain.cloud)... 169.63.118.104\n",
      "Connecting to cf-courses-data.s3.us.cloud-object-storage.appdomain.cloud (cf-courses-data.s3.us.cloud-object-storage.appdomain.cloud)|169.63.118.104|:443... connected.\n",
      "HTTP request sent, awaiting response... 200 OK\n",
      "Length: 590 [text/csv]\n",
      "Saving to: ‘exchange_rates.csv.1’\n",
      "\n",
      "exchange_rates.csv. 100%[===================>]     590  --.-KB/s    in 0s      \n",
      "\n",
      "2022-10-01 12:26:18 (4.90 MB/s) - ‘exchange_rates.csv.1’ saved [590/590]\n",
      "\n"
     ]
    }
   ],
   "source": [
    "!wget https://cf-courses-data.s3.us.cloud-object-storage.appdomain.cloud/IBMDeveloperSkillsNetwork-PY0221EN-SkillsNetwork/labs/module%206/Lab%20-%20Extract%20Transform%20Load/data/bank_market_cap_1.json\n",
    "!wget https://cf-courses-data.s3.us.cloud-object-storage.appdomain.cloud/IBMDeveloperSkillsNetwork-PY0221EN-SkillsNetwork/labs/module%206/Lab%20-%20Extract%20Transform%20Load/data/bank_market_cap_2.json\n",
    "!wget https://cf-courses-data.s3.us.cloud-object-storage.appdomain.cloud/IBMDeveloperSkillsNetwork-PY0221EN-SkillsNetwork/labs/module%206/Final%20Assignment/exchange_rates.csv"
   ]
  },
  {
   "cell_type": "markdown",
   "metadata": {},
   "source": [
    "## Extract\n"
   ]
  },
  {
   "cell_type": "markdown",
   "metadata": {},
   "source": [
    "### JSON Extract Function\n",
    "\n",
    "This function will extract JSON files.\n"
   ]
  },
  {
   "cell_type": "code",
   "execution_count": 36,
   "metadata": {},
   "outputs": [],
   "source": [
    "def extract_from_json(file_to_process):\n",
    "    dataframe = pd.read_json(file_to_process)\n",
    "    return dataframe"
   ]
  },
  {
   "cell_type": "markdown",
   "metadata": {},
   "source": [
    "## Extract Function\n",
    "\n",
    "Define the extract function that finds JSON file `bank_market_cap_1.json` and calls the function created above to extract data from them. Store the data in a `pandas` dataframe. Use the following list for the columns.\n"
   ]
  },
  {
   "cell_type": "code",
   "execution_count": 68,
   "metadata": {},
   "outputs": [],
   "source": [
    "columns=['Name','Market Cap (US$ Billion)']"
   ]
  },
  {
   "cell_type": "code",
   "execution_count": 69,
   "metadata": {},
   "outputs": [],
   "source": [
    "def extract():\n",
    "    df = extract_from_json('bank_market_cap_1.json')\n",
    "    df.columns = columns\n",
    "    return df\n"
   ]
  },
  {
   "cell_type": "markdown",
   "metadata": {},
   "source": [
    "<b>Question 1</b> Load the file <code>exchange_rates.csv</code> as a dataframe and find the exchange rate for British pounds with the symbol <code>GBP</code>, store it in the variable  <code>exchange_rate</code>, you will be asked for the number. Hint: set the parameter  <code>index_col</code> to 0.\n"
   ]
  },
  {
   "cell_type": "code",
   "execution_count": 73,
   "metadata": {},
   "outputs": [
    {
     "name": "stdout",
     "output_type": "stream",
     "text": [
      "Rates    0.732398\n",
      "Name: GBP, dtype: float64\n"
     ]
    }
   ],
   "source": [
    "exc_rate = pd.read_csv ('exchange_rates.csv', index_col = 0)\n",
    "exc_rate = exc_rate.loc['GBP',:]\n",
    "print(exc_rate)"
   ]
  },
  {
   "cell_type": "markdown",
   "metadata": {},
   "source": [
    "## Transform\n",
    "\n",
    "Using <code>exchange_rate</code> and the `exchange_rates.csv` file find the exchange rate of USD to GBP. Write a transform function that\n",
    "\n",
    "1.  Changes the `Market Cap (US$ Billion)` column from USD to GBP\n",
    "2.  Rounds the Market Cap (US$ Billion)\\` column to 3 decimal places\n",
    "3.  Rename `Market Cap (US$ Billion)` to `Market Cap (GBP$ Billion)`\n"
   ]
  },
  {
   "cell_type": "code",
   "execution_count": 74,
   "metadata": {},
   "outputs": [],
   "source": [
    "def transform(market, exc_rate):\n",
    "    market['Market Cap (GBP$ Billion)'] = market['Market Cap (US$ Billion)']\n",
    "    market['Market Cap (GBP$ Billion)']*= exc_rate['Rates'].tolist()\n",
    "    market.drop('Market Cap (US$ Billion)', axis = 1 , inplace = True )\n",
    "    \n",
    "    return market\n"
   ]
  },
  {
   "cell_type": "markdown",
   "metadata": {},
   "source": [
    "## Load\n",
    "\n",
    "Create a function that takes a dataframe and load it to a csv named `bank_market_cap_gbp.csv`. Make sure to set `index` to `False`.\n"
   ]
  },
  {
   "cell_type": "code",
   "execution_count": 75,
   "metadata": {},
   "outputs": [],
   "source": [
    "def load(data):\n",
    "    data.to_csv('bank_market_cap_gbp.csv')\n",
    "    \n",
    "    # Write your code here\n",
    "    "
   ]
  },
  {
   "cell_type": "markdown",
   "metadata": {},
   "source": [
    "## Logging Function\n"
   ]
  },
  {
   "cell_type": "markdown",
   "metadata": {},
   "source": [
    "Write the logging function <code>log</code> to log your data:\n"
   ]
  },
  {
   "cell_type": "code",
   "execution_count": 76,
   "metadata": {},
   "outputs": [],
   "source": [
    "def log(log):\n",
    "    with open ('log.txt','a') as fxn:\n",
    "        fxn.write('{}\\n'.format(log))\n",
    "    # Write your code here\n",
    "    "
   ]
  },
  {
   "cell_type": "markdown",
   "metadata": {},
   "source": [
    "## Running the ETL Process\n"
   ]
  },
  {
   "cell_type": "markdown",
   "metadata": {},
   "source": [
    "Log the process accordingly using the following <code>\"ETL Job Started\"</code> and <code>\"Extract phase Started\"</code>\n"
   ]
  },
  {
   "cell_type": "code",
   "execution_count": 77,
   "metadata": {},
   "outputs": [],
   "source": [
    "# Write your code here\n",
    "log('ETL Job Started')\n",
    "log('Extract phase Started')"
   ]
  },
  {
   "cell_type": "markdown",
   "metadata": {},
   "source": [
    "### Extract\n"
   ]
  },
  {
   "cell_type": "markdown",
   "metadata": {},
   "source": [
    "<code>Question 2</code> Use the function <code>extract</code>, and print the first 5 rows, take a screen shot:\n"
   ]
  },
  {
   "cell_type": "code",
   "execution_count": 78,
   "metadata": {},
   "outputs": [
    {
     "data": {
      "text/html": [
       "<div>\n",
       "<style scoped>\n",
       "    .dataframe tbody tr th:only-of-type {\n",
       "        vertical-align: middle;\n",
       "    }\n",
       "\n",
       "    .dataframe tbody tr th {\n",
       "        vertical-align: top;\n",
       "    }\n",
       "\n",
       "    .dataframe thead th {\n",
       "        text-align: right;\n",
       "    }\n",
       "</style>\n",
       "<table border=\"1\" class=\"dataframe\">\n",
       "  <thead>\n",
       "    <tr style=\"text-align: right;\">\n",
       "      <th></th>\n",
       "      <th>Name</th>\n",
       "      <th>Market Cap (US$ Billion)</th>\n",
       "    </tr>\n",
       "  </thead>\n",
       "  <tbody>\n",
       "    <tr>\n",
       "      <th>0</th>\n",
       "      <td>JPMorgan Chase</td>\n",
       "      <td>390.934</td>\n",
       "    </tr>\n",
       "    <tr>\n",
       "      <th>1</th>\n",
       "      <td>Industrial and Commercial Bank of China</td>\n",
       "      <td>345.214</td>\n",
       "    </tr>\n",
       "    <tr>\n",
       "      <th>2</th>\n",
       "      <td>Bank of America</td>\n",
       "      <td>325.331</td>\n",
       "    </tr>\n",
       "    <tr>\n",
       "      <th>3</th>\n",
       "      <td>Wells Fargo</td>\n",
       "      <td>308.013</td>\n",
       "    </tr>\n",
       "    <tr>\n",
       "      <th>4</th>\n",
       "      <td>China Construction Bank</td>\n",
       "      <td>257.399</td>\n",
       "    </tr>\n",
       "  </tbody>\n",
       "</table>\n",
       "</div>"
      ],
      "text/plain": [
       "                                      Name  Market Cap (US$ Billion)\n",
       "0                           JPMorgan Chase                   390.934\n",
       "1  Industrial and Commercial Bank of China                   345.214\n",
       "2                          Bank of America                   325.331\n",
       "3                              Wells Fargo                   308.013\n",
       "4                  China Construction Bank                   257.399"
      ]
     },
     "execution_count": 78,
     "metadata": {},
     "output_type": "execute_result"
    }
   ],
   "source": [
    "# Call the function here\n",
    "df = extract()\n",
    "# Print the rows here\n",
    "df.head()"
   ]
  },
  {
   "cell_type": "markdown",
   "metadata": {},
   "source": [
    "Log the data as <code>\"Extract phase Ended\"</code>\n"
   ]
  },
  {
   "cell_type": "code",
   "execution_count": 79,
   "metadata": {},
   "outputs": [],
   "source": [
    "# Write your code here\n",
    "log('Extract phase Ended')"
   ]
  },
  {
   "cell_type": "markdown",
   "metadata": {},
   "source": [
    "### Transform\n"
   ]
  },
  {
   "cell_type": "markdown",
   "metadata": {},
   "source": [
    "Log the following  <code>\"Transform phase Started\"</code>\n"
   ]
  },
  {
   "cell_type": "code",
   "execution_count": 80,
   "metadata": {},
   "outputs": [],
   "source": [
    "# Write your code here\n",
    "log('Transform phase Started')"
   ]
  },
  {
   "cell_type": "markdown",
   "metadata": {},
   "source": [
    "<code>Question 3</code> Use the function <code>transform</code> and print the first 5 rows of the output, take a screen shot:\n"
   ]
  },
  {
   "cell_type": "code",
   "execution_count": 81,
   "metadata": {},
   "outputs": [
    {
     "data": {
      "text/html": [
       "<div>\n",
       "<style scoped>\n",
       "    .dataframe tbody tr th:only-of-type {\n",
       "        vertical-align: middle;\n",
       "    }\n",
       "\n",
       "    .dataframe tbody tr th {\n",
       "        vertical-align: top;\n",
       "    }\n",
       "\n",
       "    .dataframe thead th {\n",
       "        text-align: right;\n",
       "    }\n",
       "</style>\n",
       "<table border=\"1\" class=\"dataframe\">\n",
       "  <thead>\n",
       "    <tr style=\"text-align: right;\">\n",
       "      <th></th>\n",
       "      <th>Name</th>\n",
       "      <th>Market Cap (GBP$ Billion)</th>\n",
       "    </tr>\n",
       "  </thead>\n",
       "  <tbody>\n",
       "    <tr>\n",
       "      <th>0</th>\n",
       "      <td>JPMorgan Chase</td>\n",
       "      <td>286.319444</td>\n",
       "    </tr>\n",
       "    <tr>\n",
       "      <th>1</th>\n",
       "      <td>Industrial and Commercial Bank of China</td>\n",
       "      <td>252.834188</td>\n",
       "    </tr>\n",
       "    <tr>\n",
       "      <th>2</th>\n",
       "      <td>Bank of America</td>\n",
       "      <td>238.271911</td>\n",
       "    </tr>\n",
       "    <tr>\n",
       "      <th>3</th>\n",
       "      <td>Wells Fargo</td>\n",
       "      <td>225.588235</td>\n",
       "    </tr>\n",
       "    <tr>\n",
       "      <th>4</th>\n",
       "      <td>China Construction Bank</td>\n",
       "      <td>188.518621</td>\n",
       "    </tr>\n",
       "  </tbody>\n",
       "</table>\n",
       "</div>"
      ],
      "text/plain": [
       "                                      Name  Market Cap (GBP$ Billion)\n",
       "0                           JPMorgan Chase                 286.319444\n",
       "1  Industrial and Commercial Bank of China                 252.834188\n",
       "2                          Bank of America                 238.271911\n",
       "3                              Wells Fargo                 225.588235\n",
       "4                  China Construction Bank                 188.518621"
      ]
     },
     "execution_count": 81,
     "metadata": {},
     "output_type": "execute_result"
    }
   ],
   "source": [
    "# Call the function here\n",
    "df = transform(extract(),exc_rate)\n",
    "\n",
    "# Print the first 5 rows here\n",
    "df.head()"
   ]
  },
  {
   "cell_type": "markdown",
   "metadata": {},
   "source": [
    "Log your data <code>\"Transform phase Ended\"</code>\n"
   ]
  },
  {
   "cell_type": "code",
   "execution_count": 82,
   "metadata": {},
   "outputs": [],
   "source": [
    "# Write your code here\n",
    "log('Transform phase Ended')"
   ]
  },
  {
   "cell_type": "markdown",
   "metadata": {},
   "source": [
    "### Load\n"
   ]
  },
  {
   "cell_type": "markdown",
   "metadata": {},
   "source": [
    "Log the following `\"Load phase Started\"`.\n"
   ]
  },
  {
   "cell_type": "code",
   "execution_count": 83,
   "metadata": {},
   "outputs": [],
   "source": [
    "# Write your code here\n",
    "log('Load phase Started')"
   ]
  },
  {
   "cell_type": "markdown",
   "metadata": {},
   "source": [
    "Call the load function\n"
   ]
  },
  {
   "cell_type": "code",
   "execution_count": 84,
   "metadata": {},
   "outputs": [],
   "source": [
    "# Write your code here\n",
    "load(df)"
   ]
  },
  {
   "cell_type": "markdown",
   "metadata": {},
   "source": [
    "Log the following `\"Load phase Ended\"`.\n"
   ]
  },
  {
   "cell_type": "code",
   "execution_count": 85,
   "metadata": {},
   "outputs": [],
   "source": [
    "# Write your code here\n",
    "log('Load phase Ended')"
   ]
  },
  {
   "cell_type": "markdown",
   "metadata": {},
   "source": [
    "## Authors\n"
   ]
  },
  {
   "cell_type": "markdown",
   "metadata": {},
   "source": [
    "Ramesh Sannareddy, Joseph Santrcangelo and Azim Hirjani\n"
   ]
  },
  {
   "cell_type": "markdown",
   "metadata": {},
   "source": [
    "### Other Contributors\n"
   ]
  },
  {
   "cell_type": "markdown",
   "metadata": {},
   "source": [
    "Rav Ahuja\n"
   ]
  },
  {
   "cell_type": "markdown",
   "metadata": {},
   "source": [
    "## Change Log\n"
   ]
  },
  {
   "cell_type": "markdown",
   "metadata": {},
   "source": [
    "| Date (YYYY-MM-DD) | Version | Changed By        | Change Description                 |\n",
    "| ----------------- | ------- | ----------------- | ---------------------------------- |\n",
    "| 2020-11-25        | 0.1     | Ramesh Sannareddy | Created initial version of the lab |\n"
   ]
  },
  {
   "cell_type": "markdown",
   "metadata": {},
   "source": [
    "Copyright © 2020 IBM Corporation. This notebook and its source code are released under the terms of the [MIT License](https://cognitiveclass.ai/mit-license?utm_medium=Exinfluencer&utm_source=Exinfluencer&utm_content=000026UJ&utm_term=10006555&utm_id=NA-SkillsNetwork-Channel-SkillsNetworkCoursesIBMDeveloperSkillsNetworkPY0221ENSkillsNetwork23455645-2022-01-01&cm_mmc=Email_Newsletter-\\_-Developer_Ed%2BTech-\\_-WW_WW-\\_-SkillsNetwork-Courses-IBM-DA0321EN-SkillsNetwork-21426264&cm_mmca1=000026UJ&cm_mmca2=10006555&cm_mmca3=M12345678&cvosrc=email.Newsletter.M12345678&cvo_campaign=000026UJ).\n"
   ]
  }
 ],
 "metadata": {
  "kernelspec": {
   "display_name": "Python",
   "language": "python",
   "name": "conda-env-python-py"
  },
  "language_info": {
   "codemirror_mode": {
    "name": "ipython",
    "version": 3
   },
   "file_extension": ".py",
   "mimetype": "text/x-python",
   "name": "python",
   "nbconvert_exporter": "python",
   "pygments_lexer": "ipython3",
   "version": "3.7.12"
  }
 },
 "nbformat": 4,
 "nbformat_minor": 4
}
